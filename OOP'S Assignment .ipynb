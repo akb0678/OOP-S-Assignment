{
 "cells": [
  {
   "cell_type": "markdown",
   "id": "94598636",
   "metadata": {},
   "source": [
    "# Challenge 1: Square Numbers and Return Their Sum:-"
   ]
  },
  {
   "cell_type": "code",
   "execution_count": 22,
   "id": "e44ab9bb",
   "metadata": {},
   "outputs": [
    {
     "data": {
      "text/plain": [
       "35"
      ]
     },
     "execution_count": 22,
     "metadata": {},
     "output_type": "execute_result"
    }
   ],
   "source": [
    "class Point:\n",
    "    def __init__(self,x,y,z):\n",
    "        self.x=x\n",
    "        self.y=y\n",
    "        self.z=z\n",
    "    def sqSum(self):\n",
    "        return (self.x)**2+(self.y)**2+(self.z)**2\n",
    "c=Point(1,3,5)\n",
    "c.sqSum()\n",
    "\n",
    "         "
   ]
  },
  {
   "cell_type": "markdown",
   "id": "f517c446",
   "metadata": {},
   "source": [
    "# Challenge 2: Implement a Calculator Class:-"
   ]
  },
  {
   "cell_type": "code",
   "execution_count": 5,
   "id": "247eaa28",
   "metadata": {},
   "outputs": [
    {
     "name": "stdout",
     "output_type": "stream",
     "text": [
      "104\n",
      "-84\n",
      "940\n",
      "9.4\n"
     ]
    }
   ],
   "source": [
    "class Calculator:\n",
    "    def __init__(self,num1,num2):\n",
    "        self.num1=num1\n",
    "        self.num2=num2\n",
    "    def add(self):\n",
    "        return print(self.num1+self.num2)\n",
    "    def subtract(self):\n",
    "        return print(self.num1-self.num2)\n",
    "    def multiply(self):\n",
    "        return print(self.num1*self.num2)\n",
    "    def divide(self):\n",
    "        return print(self.num2/self.num1)\n",
    "c=Calculator(10,94)\n",
    "c.add()\n",
    "c.subtract()\n",
    "c.multiply()\n",
    "c.divide()"
   ]
  },
  {
   "cell_type": "markdown",
   "id": "d8aff19f",
   "metadata": {},
   "source": [
    "# Challenge 3: Implement the Complete Student Class:-"
   ]
  },
  {
   "cell_type": "code",
   "execution_count": 42,
   "id": "75f0ac8d",
   "metadata": {},
   "outputs": [
    {
     "name": "stdout",
     "output_type": "stream",
     "text": [
      "Name: AKASH\n",
      "RollNumber: 23\n"
     ]
    }
   ],
   "source": [
    "class Student:\n",
    "    def setName(self,n):\n",
    "        self.__name=n\n",
    "    def getName(self):\n",
    "        return self.__Name\n",
    "    def setRollNumber(self,r):\n",
    "        self.__rollnumber=r\n",
    "    def getRollNumber(self):\n",
    "        return self.__rollnumber\n",
    "    def display(self):\n",
    "        print('Name:',self.__name)\n",
    "        print('RollNumber:',self.__rollnumber)\n",
    "        \n",
    "s=Student()\n",
    "s.setName(\"AKASH\")\n",
    "s.setRollNumber(23)\n",
    "s.display()\n",
    "    "
   ]
  },
  {
   "cell_type": "markdown",
   "id": "b8b999fd",
   "metadata": {},
   "source": [
    "# Challenge 4: Implement a Banking Account:-"
   ]
  },
  {
   "cell_type": "code",
   "execution_count": 8,
   "id": "aa6a5aa7",
   "metadata": {},
   "outputs": [
    {
     "name": "stdout",
     "output_type": "stream",
     "text": [
      "Title  is: Ashish\n",
      "Balance is: 5000\n",
      "Interest Rate is: 5\n"
     ]
    }
   ],
   "source": [
    "class Account:\n",
    "    def __init__(self,title=None,balance=0):\n",
    "        self.title=title\n",
    "        self.balance=balance\n",
    "        print(\"Title  is:\",self.title)\n",
    "        print(\"Balance is:\",self.balance)\n",
    "class SavingAccount(Account):\n",
    "    def __init__(self,interestRate=0):\n",
    "        self.interestRate=interestRate\n",
    "        print(\"Interest Rate is:\",self.interestRate)\n",
    "c=Account(\"Ashish\",5000)\n",
    "s=SavingAccount(5)\n"
   ]
  },
  {
   "cell_type": "markdown",
   "id": "ace0a52b",
   "metadata": {},
   "source": [
    "# Challenge 5: Handling a Bank Account:-"
   ]
  },
  {
   "cell_type": "code",
   "execution_count": 4,
   "id": "7849fbb3",
   "metadata": {},
   "outputs": [
    {
     "name": "stdout",
     "output_type": "stream",
     "text": [
      "Balance: 2000\n",
      "deposit: 500\n",
      "Available Balance is: 2500\n",
      "Balance: 2000\n",
      "withdrawal: 500\n",
      "Available Balance is: 1500\n",
      "Balance: 2000\n",
      "InterestRate: 5\n"
     ]
    },
    {
     "data": {
      "text/plain": [
       "100"
      ]
     },
     "execution_count": 4,
     "metadata": {},
     "output_type": "execute_result"
    }
   ],
   "source": [
    "class Account:\n",
    "    def __init__(self,title=None,balance=0):\n",
    "        self.title=title\n",
    "        self.balance=balance\n",
    "        print(\"Balance:\",self.balance)\n",
    "    def withdrawal(self,amount):\n",
    "        self.amount=amount\n",
    "        print(\"withdrawal:\",self.amount)\n",
    "        self.balance=self.balance-amount\n",
    "    def deposit(self,amount):\n",
    "        self.amount=amount\n",
    "        print(\"deposit:\",self.amount)\n",
    "        self.balance=self.balance+amount\n",
    "    def getBalance(self):\n",
    "        print(\"Available Balance is:\",self.balance)\n",
    "        return self.balance \n",
    "class SavingAccount(Account):\n",
    "    def __init__(self,title=None,balance=0,interestRate=0):\n",
    "        super().__init__(title,balance)\n",
    "        self.interestRate=interestRate\n",
    "        print(\"InterestRate:\",self.interestRate)\n",
    "    def interestAmount(self):\n",
    "        return (self.interestRate*self.balance)//100\n",
    "c=Account(\"Ashish\",2000)\n",
    "c.deposit(500)\n",
    "c.getBalance()\n",
    "w=Account(\"Ashish\",2000)\n",
    "w.withdrawal(500)\n",
    "w.getBalance()\n",
    "z=SavingAccount(\"Ashish\",2000,5)\n",
    "z.interestAmount()"
   ]
  },
  {
   "cell_type": "code",
   "execution_count": null,
   "id": "be296191",
   "metadata": {},
   "outputs": [],
   "source": []
  }
 ],
 "metadata": {
  "kernelspec": {
   "display_name": "Python 3 (ipykernel)",
   "language": "python",
   "name": "python3"
  },
  "language_info": {
   "codemirror_mode": {
    "name": "ipython",
    "version": 3
   },
   "file_extension": ".py",
   "mimetype": "text/x-python",
   "name": "python",
   "nbconvert_exporter": "python",
   "pygments_lexer": "ipython3",
   "version": "3.9.12"
  }
 },
 "nbformat": 4,
 "nbformat_minor": 5
}
